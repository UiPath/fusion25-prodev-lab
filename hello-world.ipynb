{
 "cells": [
  {
   "cell_type": "markdown",
   "id": "a059f23c",
   "metadata": {},
   "source": [
    "# Hello World Agent with UiPath SDK"
   ]
  },
  {
   "cell_type": "markdown",
   "id": "542110a5",
   "metadata": {},
   "source": [
    "# Before you begin\n",
    "\n",
    "Make sure you created the `.venv` and installed `jupyter`."
   ]
  },
  {
   "cell_type": "code",
   "execution_count": null,
   "id": "73d4323d",
   "metadata": {},
   "outputs": [],
   "source": [
    "!uv init -p 3.11\n",
    "!uv add ipykernel jupyter\n",
    "!uv run python -m ipykernel install --user --name=jupyter-uv-env --display-name \"FUSION2025\""
   ]
  },
  {
   "cell_type": "markdown",
   "id": "8a0f69a6",
   "metadata": {},
   "source": [
    "\n",
    "### Select the kernel\n",
    "\n",
    "![](./resources/prerequisites/3050-select-kernel.png)\n",
    "\n",
    "![](./resources/prerequisites/3060-select-kernel.png)\n",
    "\n",
    "![](./resources/prerequisites/3070-select-kernel.png)\n"
   ]
  },
  {
   "cell_type": "code",
   "execution_count": null,
   "id": "b589f03c",
   "metadata": {},
   "outputs": [],
   "source": [
    "# If this doesn't work, nothing works!\n",
    "!echo \"You are all set, continue\""
   ]
  },
  {
   "cell_type": "markdown",
   "id": "f0b750f3",
   "metadata": {},
   "source": [
    "### Login to UiPath and navigate to Orchestrator"
   ]
  },
  {
   "cell_type": "markdown",
   "id": "5f3dd477",
   "metadata": {},
   "source": [
    "Navigate to [staging.uipath.com](https://staging.uipath.com) and login to the organization `UiPathFusionWorkshops`.\n",
    "\n",
    "From the top right dropdown select the `AgentsProCode` tenant.\n",
    "\n",
    "The landing page will show you the available services. Go to Orchestrator.\n",
    "\n",
    "![](./resources/prerequisites/0010-home-landing-page.png)"
   ]
  },
  {
   "cell_type": "markdown",
   "id": "5b6313b2",
   "metadata": {},
   "source": [
    "The Orchestrator service is where you configure and run your automations.\n",
    "\n",
    "![](./resources/prerequisites/0011-orchestrator.png)"
   ]
  },
  {
   "cell_type": "markdown",
   "id": "168d3eab",
   "metadata": {},
   "source": [
    "\n",
    "You have access to the Shared folder. \n",
    "\n",
    "Create a subfolder using an unique name, example: `Fusion25-<your-name>`.\n",
    "\n",
    "You will publish the packages to the tenant feed and define your automations in this folder.\n",
    "\n",
    "![](./resources/prerequisites/2010-create-subfolder.png)\n",
    "\n",
    "![](./resources/prerequisites/2010-create-subfolder-2.png)\n",
    "\n",
    "![](./resources/prerequisites/2010-create-subfolder-3.png)\n"
   ]
  },
  {
   "cell_type": "markdown",
   "id": "8ce26a89",
   "metadata": {},
   "source": [
    "### Use the folder name in the .env file\n",
    "\n",
    "Copy the folder Path. Use it to configure the corresponding environment variable `UIPATH_FOLDER_PATH=Shared/Fusion25-<your-name>`."
   ]
  },
  {
   "cell_type": "code",
   "execution_count": null,
   "id": "1542fb43",
   "metadata": {},
   "outputs": [],
   "source": [
    "!echo UIPATH_FOLDER_NAME=\"<<< INSERT FOLDER PATH HERE >>>\" >> .env"
   ]
  },
  {
   "cell_type": "markdown",
   "id": "a9d326c9",
   "metadata": {},
   "source": [
    "![](./resources/prerequisites/0050-copy-folder-path.png)"
   ]
  },
  {
   "cell_type": "markdown",
   "id": "7ad58ad1",
   "metadata": {},
   "source": [
    "### Add the uipath-langchain package\n",
    "\n",
    "Your virtual environment was aleady setup and the Jupyter kernel was selected. \n",
    "\n",
    "Now it's time to add the [uipath-langchain](https://github.com/UiPath/uipath-langchain-python) package to the project. \n",
    "\n",
    "This package uses the [uipath](https://github.com/UiPath/uipath-python) package thaat provides APIs to access the UiPath platform, and adds helpers for developing and running agents.\n",
    "\n",
    "This package is both the runtime dependency and the CLI utility."
   ]
  },
  {
   "cell_type": "code",
   "execution_count": null,
   "id": "f59b9109",
   "metadata": {},
   "outputs": [],
   "source": [
    "!uv add uipath-langchain"
   ]
  },
  {
   "cell_type": "markdown",
   "id": "bee6539c",
   "metadata": {},
   "source": [
    "### Use the uipath cli to create a new agent\n",
    "\n",
    "Use the `uipath new` to create a new hello world agent. \n",
    "\n",
    "Replace the placeholder with your unique name.\n",
    "\n",
    "This command creates a new `main.py` file that contains the starting agent code that uses an `UiPathChat` to generate a report.\n"
   ]
  },
  {
   "cell_type": "code",
   "execution_count": null,
   "id": "820c0e06",
   "metadata": {},
   "outputs": [],
   "source": [
    "!uv run uipath new agent-<<< ADD YOUR NAME HERE >>>\n",
    "!uv add ipykernel jupyter"
   ]
  },
  {
   "cell_type": "markdown",
   "id": "1c336d03",
   "metadata": {},
   "source": [
    "### Authenticate to the UiPath Cloud\n",
    "\n",
    "This will open the interactiv login page.\n",
    "\n",
    "The login information will be stored in the `.env` file: organization key, tenant key, base URL, access token.\n",
    "\n",
    "The base `uipath` sdk provides the helpers that will use the environmenet variables when making requests to the UiPath platform."
   ]
  },
  {
   "cell_type": "code",
   "execution_count": null,
   "id": "0b59e2b6",
   "metadata": {},
   "outputs": [],
   "source": [
    "!uv run uipath auth --staging --force --tenant AgentsProCode"
   ]
  },
  {
   "cell_type": "markdown",
   "id": "8444a1e8",
   "metadata": {},
   "source": [
    "# Run the agent\n",
    "\n",
    "You can provide agent input as a text or as a file."
   ]
  },
  {
   "cell_type": "code",
   "execution_count": null,
   "id": "92d14efb",
   "metadata": {},
   "outputs": [],
   "source": [
    "%%writefile input.json\n",
    "{\n",
    "    \"topic\": \"AI Revolution 2025-2026\"\n",
    "}"
   ]
  },
  {
   "cell_type": "markdown",
   "id": "3b36c976",
   "metadata": {},
   "source": [
    "You can run the agent locally using `uipath run`.\n",
    "\n",
    "If the predefined model (`gpt-4o-mini-2024-07-18`) is rate-limited or not available you can use another UiPath-hosted model, example: `gpt-4.1-mini-2025-04-14`, `anthropic.claude-3-7-sonnet-20250219-v1:0`. Just edit the model name in the instantiation of `UiPathChat` in `main.py`.\n",
    "\n",
    "You can also use your own model, by adding the `langchain-anthropic` package and using it like this.\n",
    "``` python\n",
    "from langchain_anthropic import ChatAnthropic\n",
    "llm = ChatAnthropic(model=\"claude-3.5\")\n",
    "```\n",
    "\n",
    "If you use your own model you need to set your API_KEY in the .env file.\n",
    "```env\n",
    "ANTHROPIC_API_KEY=your-anthropic-api-key\n",
    "```"
   ]
  },
  {
   "cell_type": "code",
   "execution_count": null,
   "id": "94e2409b",
   "metadata": {},
   "outputs": [],
   "source": [
    "!uv run uipath run --file input.json"
   ]
  },
  {
   "cell_type": "code",
   "execution_count": null,
   "id": "e69f9151",
   "metadata": {},
   "outputs": [],
   "source": [
    "# if you need to use your own Anthropic model, install this package:\n",
    "!uv add langchain-anthropic"
   ]
  },
  {
   "cell_type": "markdown",
   "id": "e67e4eb7",
   "metadata": {},
   "source": [
    "### Pack an publish the agent\n",
    "\n",
    "Before first packing and publishing the agent, you need to perform the initializaiton.\n",
    "\n",
    "This creates the uipath.json file with the metadata needed for UiPath runtime to execute the agent.\n",
    "\n",
    "It also creates the `agent.mermaid` diagram where you can see your graph diagram."
   ]
  },
  {
   "cell_type": "code",
   "execution_count": null,
   "id": "74cb8aff",
   "metadata": {},
   "outputs": [],
   "source": [
    "!uv run uipath init"
   ]
  },
  {
   "cell_type": "markdown",
   "id": "a91cf160",
   "metadata": {},
   "source": [
    "Now use the uipath cli to package your code in a nuget package that is available under the `.uipath` folder.\n",
    "\n",
    "The name and version from the `pyproject.toml` are used to build the pakcage name:\n",
    "\n",
    "```\n",
    "name = \"agent-<your-name>\"\n",
    "version = \"0.0.1\"\n",
    "```\n",
    "\n",
    "The agent nuget package will be published in the Orchestrator tenant package feed.\n",
    "\n",
    "The command will fail if another package with the same name and version exists. If this happens you must increment the version and run `uipath pack`.before publishing again."
   ]
  },
  {
   "cell_type": "code",
   "execution_count": null,
   "id": "bc733f0f",
   "metadata": {},
   "outputs": [],
   "source": [
    "# Auto-increase the version of the package\n",
    "import re, pathlib\n",
    "p = pathlib.Path(\"pyproject.toml\"); t = p.read_text()\n",
    "n = re.sub(r'(?m)^(version\\s*=\\s*\")(\\d+)\\.(\\d+)\\.(\\d+)(\")', lambda m: f'{m.group(1)}{m.group(2)}.{m.group(3)}.{int(m.group(4))+1}{m.group(5)}', t, count=1)\n",
    "p.write_text(n); print(re.search(r'(?m)^version\\s*=\\s*\"([^\"]+)\"', t).group(1), \"->\", re.search(r'(?m)^version\\s*=\\s*\"([^\"]+)\"', n).group(1))"
   ]
  },
  {
   "cell_type": "code",
   "execution_count": null,
   "id": "4fa0a51b",
   "metadata": {},
   "outputs": [],
   "source": [
    "!uv run uipath pack\n",
    "!uv run uipath publish -t "
   ]
  },
  {
   "cell_type": "markdown",
   "id": "a1745421",
   "metadata": {},
   "source": [
    "### Createa a process in the folder\n",
    "\n",
    "Use your uploaded package to create a `Process` in your folder.\n",
    "\n",
    "The `Process` allows additional configuration that are specific to this folder, such as predefining `Environment Configuration` or `Input Args`."
   ]
  },
  {
   "cell_type": "markdown",
   "id": "e7092c2c",
   "metadata": {},
   "source": [
    "First select the Package for this Process. Make sure you select the correct agent, keep in mind that you are selecting from the Tenant feed (packages for all folders are stored there).\n",
    "\n",
    "![](./resources/prerequisites/0060-create-process.png)\n",
    "\n",
    "![](./resources/prerequisites/0061-create-process.png)\n",
    "\n",
    "![](./resources/prerequisites/0062-create-process.png)\n",
    "\n",
    "![](./resources/prerequisites/0063-create-process.png)\n"
   ]
  },
  {
   "cell_type": "markdown",
   "id": "203ebb29",
   "metadata": {},
   "source": [
    "### Start the process \n",
    "\n",
    "On the `Processes` list, use the `Start a Job` button next to the three-dots menu.\n",
    "\n",
    "The Job will be executed using a Robot identity and a Serverless machine."
   ]
  },
  {
   "cell_type": "markdown",
   "id": "33ceea90",
   "metadata": {},
   "source": [
    "![](./resources/prerequisites/0070-start-job.png)\n",
    "\n",
    "Supply the input arguments for the job.\n",
    "\n",
    "![](./resources/prerequisites/0071-start-job.png)\n",
    "\n",
    "The job was queued. When a robot is ready it will pick it up.\n",
    "\n",
    "![](./resources/prerequisites/0072-start-job.png)\n",
    "\n",
    "View the job details using the info button on the grid.\n",
    "\n",
    "![](./resources/prerequisites/0073-start-job.png)\n",
    "\n",
    "The job completed successfully.\n",
    "\n",
    "![](./resources/prerequisites/0074-start-job.png)"
   ]
  },
  {
   "cell_type": "markdown",
   "id": "fe981ec2",
   "metadata": {},
   "source": [
    "### Cleanup"
   ]
  },
  {
   "cell_type": "markdown",
   "id": "b9bcb390",
   "metadata": {},
   "source": [
    "Maybe remove this, no need for it."
   ]
  },
  {
   "cell_type": "code",
   "execution_count": 11,
   "id": "3b7d3255",
   "metadata": {},
   "outputs": [],
   "source": [
    "!del main.py\n",
    "!del AGENTS.md\n",
    "!del agent.mermaid\n",
    "!del input.json\n",
    "!del langgraph.json\n",
    "!del uipath.json"
   ]
  }
 ],
 "metadata": {
  "kernelspec": {
   "display_name": "FUSION2025",
   "language": "python",
   "name": "jupyter-uv-env"
  },
  "language_info": {
   "codemirror_mode": {
    "name": "ipython",
    "version": 3
   },
   "file_extension": ".py",
   "mimetype": "text/x-python",
   "name": "python",
   "nbconvert_exporter": "python",
   "pygments_lexer": "ipython3",
   "version": "3.11.13"
  }
 },
 "nbformat": 4,
 "nbformat_minor": 5
}
