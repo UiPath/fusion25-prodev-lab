{
 "cells": [
  {
   "cell_type": "code",
   "execution_count": null,
   "id": "0b0e47bb",
   "metadata": {},
   "outputs": [],
   "source": [
    "\n"
   ]
  },
  {
   "cell_type": "markdown",
   "id": "7bb66df4",
   "metadata": {},
   "source": [
    "# Company Agent with UiPath\n",
    "\n",
    "## Get insights. Take action - with your Enterprise-Grounded Agent\n",
    "\n",
    "The real value of AI agents emerges in the **workplace**, where context, reliability, and impact matter most. \n",
    "\n",
    "Every company is different — with unique processes, policies, tools, and requirements. \n",
    "\n",
    "For AI to be truly useful, **an agent should be part of the company itself**: rooted in enterprise context, connected to its systems, and able to turn data into reliable insights and trusted actions.\n",
    "\n",
    "<p align=\"center\"><img src=\"resources/Company_Agent_not_highlighted.png\" alt=\"Company Agent\" width=\"800\"></p>\n",
    " "
   ]
  },
  {
   "cell_type": "markdown",
   "id": "f6e4b064",
   "metadata": {},
   "source": [
    "# Company Policy Agent\n",
    "## Keep the Policies, Lose the Hassle\n",
    "Let’s be honest—company policies matter, and they’re here to stay.\n",
    "\n",
    "Still, everyday questions often create friction:\n",
    "- What’s the standard laptop I can have?\n",
    "- How do I expense $10 of API calls?\n",
    "- Does this type of software use comply with company rules?\n",
    "\n",
    "A dedicated, contextualized, secure agent lets employees ask about policy and take compliant action—fast. Here’s how the experience looks and how to implement it with UiPath.\n",
    "\n",
    "<p align=\"center\"><img src=\"resources/Company_Agent_highlighted.png\" alt=\"Company Agent\" width=\"800\"></p>"
   ]
  },
  {
   "cell_type": "markdown",
   "id": "8d7324dc",
   "metadata": {},
   "source": [
    "# Build, Deploy & Use the Company Policy Agent with UiPath\n",
    "\n",
    "**Solution & Steps**\n",
    "\n",
    "<p align=\"center\"><img src=\"resources/Scenario.png\" alt=\"Agent Overview\" width=\"800\"></p>\n",
    "\n",
    "\n",
    "1. **Define the Company Policy Reference**\n",
    "\n",
    "2. **Create UiPath Context Grounding Index from the policy text**\n",
    "\n",
    "3. **Initialize the project**\n",
    "\n",
    "4. **Build and Publish the Company Policy Agent**\n",
    "   1. Visualize the agent  \n",
    "   2. Add the `input.json` file with a test input  \n",
    "   3. Run locally  \n",
    "   4. Pack & Publish the Agent to UiPath Platform  \n",
    "\n",
    "5. **Deploy the Coded Agent as a process within UiPath Platform**\n",
    "\n",
    "6. **Expose the Policy Agent via UiPath MCP Server**\n",
    "   1. Get a Personal Access Token (PAT)  \n",
    "   2. Setup Claude Desktop  \n",
    "\n",
    "\n"
   ]
  },
  {
   "cell_type": "markdown",
   "id": "80fa6d6d",
   "metadata": {},
   "source": [
    "### Step 1. Define the Company Policy Reference \n",
    "<svg xmlns=\"http://www.w3.org/2000/svg\" width=\"20\" height=\"20\" viewBox=\"0 0 100 100\">\n",
    "  <rect width=\"100\" height=\"100\" fill=\"#FF6A00\" rx=\"15\"/>\n",
    "  <text x=\"50%\" y=\"58%\" text-anchor=\"middle\" font-size=\"50\" font-family=\"Arial, sans-serif\" fill=\"white\">Ui</text>\n",
    "</svg> \n",
    "\n",
    "Write the company policies you want the Agent to be aware of and save them in a plain txt file (e.g., [company_policy.txt](company_policy.txt)) in the current directory.\n",
    "\n",
    "**Alternatively, copy the sample Company Policy text - this will be created in your current directory**"
   ]
  },
  {
   "cell_type": "code",
   "execution_count": null,
   "id": "ae7b7284",
   "metadata": {},
   "outputs": [],
   "source": [
    "import shutil\n",
    "\n",
    "shutil.copy(\"resources/company_policy.txt\", \"company_policy.txt\")"
   ]
  },
  {
   "cell_type": "markdown",
   "id": "d0e971ae",
   "metadata": {},
   "source": [
    "### Step 2. Create UiPath Context Grounding Index from the policy text\n",
    "\n",
    "<svg xmlns=\"http://www.w3.org/2000/svg\" width=\"20\" height=\"20\" viewBox=\"0 0 100 100\">\n",
    "  <rect width=\"100\" height=\"100\" fill=\"#FF6A00\" rx=\"15\"/>\n",
    "  <text x=\"50%\" y=\"58%\" text-anchor=\"middle\" font-size=\"50\" font-family=\"Arial, sans-serif\" fill=\"white\">Ui</text>\n",
    "</svg> \n",
    "\n",
    "Create Context Grounding Index from the policy text\n",
    "In your UiPath platform account, in Orchestrator create a new Storage Bucket and upload the [company_policy.txt](company_policy.txt) file to it\n",
    "\n",
    "\n",
    "\n",
    "<p align=\"center\"><img src=\"resources/UiPath_Storage_Buckets.png\" alt=\"UiPath Storage Buckets\" width=\"850\"></p>\n",
    "\n",
    "---\n",
    "<p align=\"center\"><img src=\"resources/UiPath_Storage_Buckets_Add_File.png\" alt=\"UiPath Storage Buckets Add File\" width=\"850\"></p>\n",
    "\n",
    "With this, one can create a context grounding index based on the company_policy.txtby using Storage Bucket as data source. \n",
    "\n",
    "<p align=\"center\"><img src=\"resources/UiPath_Create_Index.png\" alt=\"UiPath Create Index\" width=\"850\"></p>\n"
   ]
  },
  {
   "cell_type": "markdown",
   "id": "72181b23",
   "metadata": {},
   "source": [
    "### Step 3. Initialize the project \n",
    "\n",
    "⚠️ **Not needed if \"Hello World example was ran before, in the same project\"**\n"
   ]
  },
  {
   "cell_type": "markdown",
   "id": "1ceb912b",
   "metadata": {},
   "source": [
    "Set the envornment"
   ]
  },
  {
   "cell_type": "code",
   "execution_count": null,
   "id": "51fa0c23",
   "metadata": {},
   "outputs": [],
   "source": [
    "# check prerequisites in README.md and create the env and the jupyter kernel"
   ]
  },
  {
   "cell_type": "code",
   "execution_count": null,
   "id": "aa8411bd",
   "metadata": {},
   "outputs": [],
   "source": [
    "# Install the uipath package\n",
    "!uv add --active uipath-langchain"
   ]
  },
  {
   "cell_type": "code",
   "execution_count": null,
   "id": "f3bffb31",
   "metadata": {},
   "outputs": [],
   "source": [
    "# Verify the uipath installation\n",
    "!uv run --active uipath -lv"
   ]
  },
  {
   "cell_type": "code",
   "execution_count": null,
   "id": "d04410a8",
   "metadata": {},
   "outputs": [],
   "source": [
    "!uv sync --upgrade --active"
   ]
  },
  {
   "cell_type": "code",
   "execution_count": null,
   "id": "60a30976",
   "metadata": {},
   "outputs": [],
   "source": [
    "#Initialize the UiPath LangChain agent. replace your name here\n",
    "!uv run --active uipath new companyAgent-<your-name>"
   ]
  },
  {
   "cell_type": "code",
   "execution_count": null,
   "id": "b6a3d346",
   "metadata": {},
   "outputs": [],
   "source": [
    "!uv add --active langchain-openai"
   ]
  },
  {
   "cell_type": "code",
   "execution_count": null,
   "id": "961abd73",
   "metadata": {},
   "outputs": [],
   "source": [
    "# Install the langchain anthropic package\n",
    "!uv add --active langchain-anthropic"
   ]
  },
  {
   "cell_type": "markdown",
   "id": "71650486",
   "metadata": {},
   "source": [
    "### Step 3.1 Authenticate with UiPath Platform\n",
    "\n",
    "⚠️ **Not needed if \"Hello World example was ran before, in the same project\"**\n"
   ]
  },
  {
   "cell_type": "code",
   "execution_count": null,
   "id": "1c497d67",
   "metadata": {},
   "outputs": [],
   "source": [
    "# Authenticate to UiPath Staging. Make sure to specify the name of the target Tenant \n",
    "!uv run --active uipath auth --staging --force --tenant \"AgentsProCode\""
   ]
  },
  {
   "cell_type": "markdown",
   "id": "6cea2b41",
   "metadata": {},
   "source": [
    "✏️ Check if the credentials were copied in the [`.env`](./.env) file. It should look somehting like this:\n",
    "\n",
    "```env\n",
    "UIPATH_URL=https://staging.uipath.com/xxxxxxxx/DefaultTenant\n",
    "UIPATH_TENANT_ID=xxxxxxxx-xxxx-xxxx-xxxx-xxxxxxxxxxxx\n",
    "UIPATH_ORGANIZATION_ID=xxxxxxxx-xxxx-xxxx-xxxx-xxxxxxxxxxxx\n",
    "UIPATH_ACCESS_TOKEN=eyJhbGciOiJSUzI1NiIsInR5cCI6IkpXVCJ9.xxxxxxxxxxxxxxxxxxxxx\n"
   ]
  },
  {
   "cell_type": "markdown",
   "id": "41bae973",
   "metadata": {},
   "source": [
    "### Step 4. Build and Publish the Company Policy Agent\n",
    "\n",
    "The Coded Agent is built with the LangGraph framework and has a single node called `policy` that based on the user ask and company policy composes response via an LLM call \n",
    "\n",
    "Start with defining the System Prompt - should gives the LLM model of choice to the rules, role, and behavior for how it should respond.\n"
   ]
  },
  {
   "cell_type": "code",
   "execution_count": null,
   "id": "b1a94d9f",
   "metadata": {},
   "outputs": [],
   "source": [
    "# %%writefile -a main.py\n",
    "\n",
    "from langgraph.graph import END, START, MessagesState, StateGraph\n",
    "from langgraph.prebuilt import create_react_agent\n",
    "from pydantic import BaseModel\n",
    "from uipath_langchain.retrievers import ContextGroundingRetriever\n",
    "from langchain_core.documents import Document\n",
    "from uipath.models import InvokeProcess, IngestionInProgressException\n",
    "import httpx\n",
    "from uipath_langchain.chat.models import UiPathAzureChatOpenAI\n",
    "\n",
    "class IndexNotFound(Exception):\n",
    "    pass\n",
    "\n",
    "# Define system prompt for company policy agent\n",
    "system_prompt = \"\"\"\n",
    "You are an advanced AI assistant specializing in answering questions about internal company policies. \n",
    "Structure your responses as follows:\n",
    "\n",
    "Answer:\n",
    "<1–3 sentence conclusion>\n",
    "\n",
    "Policy evidence:\n",
    "- \"<exact quote>\"\n",
    "  Reference: <section/bullet>\n",
    "\n",
    "Conditions/Exceptions:\n",
    "- <condition or threshold>\n",
    "\n",
    "Next steps:\n",
    "- <action 1>\n",
    "- <action 2>\n",
    "\n",
    "If not covered:\n",
    "<one line stating it’s not covered and what info is missing>\n",
    "\"\"\""
   ]
  },
  {
   "cell_type": "markdown",
   "id": "b4302cc8",
   "metadata": {},
   "source": [
    "Add a helper method to get the context data from UiPath Platform to be leveraged by the UiPath Coded Agent"
   ]
  },
  {
   "cell_type": "code",
   "execution_count": null,
   "id": "5543ff14",
   "metadata": {},
   "outputs": [],
   "source": [
    "# %%writefile -a main.py\n",
    "\n",
    "async def get_context_data_async(retriever: ContextGroundingRetriever, question: str) -> list[Document]:\n",
    "    no_of_retries = 5\n",
    "    context_data = None\n",
    "    data_queried = False\n",
    "    while no_of_retries != 0:\n",
    "        try:\n",
    "            context_data = await retriever.ainvoke(question)\n",
    "            data_queried = True\n",
    "            break\n",
    "        except IngestionInProgressException as ex:\n",
    "            logger.info(ex.message)\n",
    "            no_of_retries -= 1\n",
    "            logger.info(f\"{no_of_retries} retries left\")\n",
    "            time.sleep(5)\n",
    "        except httpx.HTTPStatusError as err:\n",
    "            if err.response.status_code == 404:\n",
    "                raise IndexNotFound\n",
    "            raise\n",
    "    if not data_queried:\n",
    "        raise Exception(\"Ingestion is taking too long.\")\n",
    "    return  context_data"
   ]
  },
  {
   "cell_type": "code",
   "execution_count": null,
   "id": "188c0841",
   "metadata": {},
   "outputs": [],
   "source": [
    "# %%writefile -a main.py\n",
    "\n",
    "class GraphInput(BaseModel):\n",
    "    \"\"\"Input for the company policy agent graph.\"\"\"\n",
    "    question: str\n",
    "\n",
    "\n",
    "class GraphOutput(BaseModel):\n",
    "    \"\"\"Output for the company policy agent graph.\"\"\"\n",
    "    response: str\n",
    "\n",
    "async def get_context_data_async(retriever: ContextGroundingRetriever, question: str) -> list[Document]:\n",
    "    no_of_retries = 5\n",
    "    context_data = None\n",
    "    data_queried = False\n",
    "    while no_of_retries != 0:\n",
    "        try:\n",
    "            context_data = await retriever.ainvoke(question)\n",
    "            data_queried = True\n",
    "            break\n",
    "        except IngestionInProgressException as ex:\n",
    "            logger.info(ex.message)\n",
    "            no_of_retries -= 1\n",
    "            logger.info(f\"{no_of_retries} retries left\")\n",
    "            time.sleep(5)\n",
    "        except httpx.HTTPStatusError as err:\n",
    "            if err.response.status_code == 404:\n",
    "                raise IndexNotFound\n",
    "            raise\n",
    "    if not data_queried:\n",
    "        raise Exception(\"Ingestion is taking too long.\")\n",
    "    return  context_data\n",
    "\n",
    "async def policy_node(state: GraphInput) -> GraphOutput:\n",
    "    retriever = ContextGroundingRetriever(\n",
    "                index_name=\"company-policy-index\",\n",
    "                number_of_results=100,\n",
    "            )\n",
    "    try:\n",
    "        context_data= await get_context_data_async(retriever, state.question)\n",
    "    except IndexNotFound:\n",
    "        context_data = system_prompt\n",
    "    \n",
    "\n",
    "    messages = [\n",
    "        {\"role\": \"system\", \"content\": system_prompt},\n",
    "        {\"role\": \"user\", \"content\": state.question},\n",
    "        {\"role\":\"user\", \"content\": context_data[0].page_content}\n",
    "    ]\n",
    "\n",
    "    \"\"\"Process a company policy question and return a structured answer.\"\"\"\n",
    "    user_message = f\"\"\"Please answer the following company policy question. Use clear section headers for each relevant policy area (Procurement Policy, Equipment Acquisition, PTO Policy).If the question is outside these topics, politely state your scope.\\n\\nQuestion: {state.question}\"\"\"\n",
    "    # result = await policy_agent.ainvoke(new_state)\n",
    "    result = await llm.ainvoke(messages)\n",
    "    return GraphOutput(response=result.content)"
   ]
  },
  {
   "cell_type": "markdown",
   "id": "e48a919c",
   "metadata": {},
   "source": [
    "**Set the LLM model and its parameters**\n",
    "\n",
    "**Option 1.** Use generic chat models such as ChatOpenAI. The corresponding API Key needs to be provided and copied in the [`.env`](./.env) file.\n",
    "\n",
    "```env\n",
    "OPENAI_API_KEY=sk-proj-xxxxxxxxxxxxxxxxxxxxxxxxxxxxxxxxxxxxxxxxxxxxxxxxxxxxxxxxxxxxxxxx\n"
   ]
  },
  {
   "cell_type": "code",
   "execution_count": null,
   "id": "a0dc0411",
   "metadata": {},
   "outputs": [],
   "source": [
    "# TEMPORARY API KEY (FOR TESTING PURPOSES-WILL BE REMOVED AFTER THE SESSION)\n",
    "\n",
    "with open(\".env\", \"a\") as f:\n",
    "    f.write(\"\\nOPENAI_API_KEY=****\\n\")\n",
    "    f.write(\"UIPATH_FOLDER_PATH=Shared\\n\")"
   ]
  },
  {
   "cell_type": "code",
   "execution_count": null,
   "id": "f7bfdb78",
   "metadata": {},
   "outputs": [],
   "source": [
    "from langchain_openai import ChatOpenAI\n",
    "\n",
    "from dotenv import load_dotenv\n",
    "load_dotenv()\n",
    "\n",
    "\n",
    "llm = ChatOpenAI(\n",
    "    model=\"gpt-5\",\n",
    "    temperature=0,\n",
    "    max_tokens=4000,\n",
    "    timeout=30,\n",
    "    max_retries=2,\n",
    ")"
   ]
  },
  {
   "cell_type": "markdown",
   "id": "71fdb175",
   "metadata": {},
   "source": [
    "**Option 2.**, UiPath provides two chat models: `UiPathAzureChatOpenAI` and `UiPathChat`. These are compatible with `LangGraph` as drop-in replacements. \n",
    "\n",
    "!No need to provide an API Key"
   ]
  },
  {
   "cell_type": "code",
   "execution_count": null,
   "id": "4cffe990",
   "metadata": {},
   "outputs": [],
   "source": [
    "from uipath_langchain.chat.models import UiPathAzureChatOpenAI\n",
    "\n",
    "llm = UiPathAzureChatOpenAI(\n",
    "    model=\"gpt-4o-2024-08-06\",\n",
    "    temperature=0,\n",
    "    max_tokens=4000,\n",
    "    timeout=30,\n",
    "    max_retries=2,\n",
    "    # other params...\n",
    ")"
   ]
  },
  {
   "cell_type": "markdown",
   "id": "7b55cc31",
   "metadata": {},
   "source": [
    "Build the state graph. START -> POLICY NODE -> END (collect output)"
   ]
  },
  {
   "cell_type": "code",
   "execution_count": null,
   "id": "96a5414c",
   "metadata": {},
   "outputs": [],
   "source": [
    "# %%writefile -a main.py\n",
    "\n",
    "# Build the state graph\n",
    "builder = StateGraph(GraphInput, output_schema=GraphOutput)\n",
    "builder.add_node(\"policy\", policy_node)\n",
    "\n",
    "builder.add_edge(START, \"policy\")\n",
    "builder.add_edge(\"policy\", END)"
   ]
  },
  {
   "cell_type": "markdown",
   "id": "cb266ca0",
   "metadata": {},
   "source": [
    "Finally, compile the graph"
   ]
  },
  {
   "cell_type": "code",
   "execution_count": null,
   "id": "6370f156",
   "metadata": {},
   "outputs": [],
   "source": [
    "# %%writefile -a main.py\n",
    "\n",
    "# Compile the graph\n",
    "graph = builder.compile()"
   ]
  },
  {
   "cell_type": "code",
   "execution_count": null,
   "id": "8c841b19",
   "metadata": {},
   "outputs": [],
   "source": [
    "# Copy the above python code to the main.py file\n",
    "\n",
    "import shutil\n",
    "shutil.copyfile(\"resources/main1.py\", \"main.py\")"
   ]
  },
  {
   "cell_type": "code",
   "execution_count": null,
   "id": "4cfa1ed2",
   "metadata": {},
   "outputs": [],
   "source": [
    "# Initialize the project to make sure all file are up to date\n",
    "!uv run --active uipath init"
   ]
  },
  {
   "cell_type": "markdown",
   "id": "3c821f16",
   "metadata": {},
   "source": [
    "----"
   ]
  },
  {
   "cell_type": "markdown",
   "id": "798bed3d",
   "metadata": {},
   "source": [
    "#### Visualize the agent\n",
    "\n",
    "👀 View the generated Mermaid diagram: [agent.mermaid](agent.mermaid)"
   ]
  },
  {
   "cell_type": "code",
   "execution_count": null,
   "id": "1738dcaa",
   "metadata": {},
   "outputs": [],
   "source": [
    "# See the Mermaid diagram\n",
    "from IPython.display import display, Markdown\n",
    "\n",
    "with open(\"agent.mermaid\", \"r\") as f:\n",
    "    mermaid_code = f.read()\n",
    "\n",
    "display(Markdown(f\"```mermaid\\n{mermaid_code}\\n```\"))"
   ]
  },
  {
   "cell_type": "markdown",
   "id": "a947b3fa",
   "metadata": {},
   "source": [
    "#### Add the input.json file with a test input\n",
    "\n",
    "`{\n",
    "    \"question\": \"Give me the list of standard laptop equipment\"\n",
    "}`"
   ]
  },
  {
   "cell_type": "code",
   "execution_count": null,
   "id": "24602b54",
   "metadata": {},
   "outputs": [],
   "source": [
    "%%writefile input.json\n",
    "{\n",
    "  \"question\": \"What is the PTO policy for taking 3 days off\"\n",
    "}"
   ]
  },
  {
   "cell_type": "markdown",
   "id": "e35133c1",
   "metadata": {},
   "source": [
    "#### Run and Test Locally\n",
    "\n",
    "Before deploying the Coded Agent to UiPath Platform, let's test it locally to make sure it has the expected behavior"
   ]
  },
  {
   "cell_type": "code",
   "execution_count": null,
   "id": "98f7e1fb",
   "metadata": {},
   "outputs": [],
   "source": [
    "# Re-initialize the project to make sure all file are up to date\n",
    "!uv run --active uipath init"
   ]
  },
  {
   "cell_type": "code",
   "execution_count": null,
   "id": "db556fa4",
   "metadata": {},
   "outputs": [],
   "source": [
    "# Run the agent locally\n",
    "!uv run --active uipath run agent --file input.json"
   ]
  },
  {
   "cell_type": "markdown",
   "id": "3e20b8dd",
   "metadata": {},
   "source": [
    "#### 🚀 Pack & Publish the Agent to UiPath Platform\n",
    "\n",
    "The following steps will **package the Coded Agent** as a UiPath artifact and **publish it at Tenant level**.\n",
    "\n",
    "---\n",
    "\n",
    "📝 **Pre-Publish Checklist**\n",
    "\n",
    "Before packing and publishing, make sure your project metadata in [`pyproject.toml`](./pyproject.toml) is correct:\n",
    "\n",
    "- **Version** → Set the `version` field to your intended release version  \n",
    "- **Author(s)** → Update the `authors` field as needed  \n",
    "- **Description** → Ensure it reflects the purpose of the project  \n",
    "- **Dependencies** → Verify required packages are listed properly  \n",
    "\n",
    "---\n",
    "\n",
    " ✅ Example `pyproject.toml`\n",
    "\n",
    "```toml\n",
    "[project]\n",
    "name = \"company-policy\"\n",
    "version = \"0.0.10\"\n",
    "description = \"company-policy\"\n",
    "authors = [{ name = \"Eusebiu Jecan\", email = \"eusebiu.jecan@uipath.com\" }]\n",
    "\n",
    "dependencies = [\n",
    "    \"uipath-langchain>=0.0.106\",\n",
    "    \"langchain-anthropic>=0.3.8\",\n",
    "]\n",
    "\n",
    "requires-python = \">=3.10\"\n"
   ]
  },
  {
   "cell_type": "code",
   "execution_count": null,
   "id": "9818da8c",
   "metadata": {},
   "outputs": [],
   "source": [
    "# Auto-increase the version of the package\n",
    "import re, pathlib\n",
    "p = pathlib.Path(\"pyproject.toml\"); t = p.read_text()\n",
    "n = re.sub(r'(?m)^(version\\s*=\\s*\")(\\d+)\\.(\\d+)\\.(\\d+)(\")', lambda m: f'{m.group(1)}{m.group(2)}.{m.group(3)}.{int(m.group(4))+1}{m.group(5)}', t, count=1)\n",
    "p.write_text(n); print(re.search(r'(?m)^version\\s*=\\s*\"([^\"]+)\"', t).group(1), \"->\", re.search(r'(?m)^version\\s*=\\s*\"([^\"]+)\"', n).group(1))"
   ]
  },
  {
   "cell_type": "code",
   "execution_count": null,
   "id": "16a9ef22",
   "metadata": {},
   "outputs": [],
   "source": [
    "!uv run --active uipath pack\n",
    "!uv run --active uipath publish --tenant"
   ]
  },
  {
   "cell_type": "markdown",
   "id": "59e487d6",
   "metadata": {},
   "source": [
    "## Step 5. Deploy/Upgrade the Coded Agent as a process within UiPath Platform \n",
    "\n",
    "If the agent was deployed before one just needs to upgrade the version of the process\n",
    "\n",
    "<p align=\"center\"><img src=\"resources/UpgradeProcessVersion.png\" alt=\"Upgrade Process Version\" width=\"820\"></p>\n",
    "\n",
    "\n",
    "Once published, the coded Agent appears in the Tenant feed as an Agent package.\n",
    "\n",
    "- **Where to find it**: Orchestrator → Tenant → Packages → Agents\n",
    "\n",
    "<p align=\"center\"><img src=\"resources/UiPath_Agent_Package_Tenant_Feed.png\" alt=\"UiPath Agent Package Tenant Feed\" width=\"820\"></p>\n",
    "<p align=\"center\"><img src=\"resources/UiPath_Agent_Package_Tenant_Feed_Versions.png\" alt=\"UiPath Agent Package Tenant Feed Versions\" width=\"820\"></p>\n",
    "\n",
    "- **Next step**: Deploy the package as a process and set the environment variables\n",
    "\n",
    "<p align=\"center\"><img src=\"resources/UiPath_Add_Process.png\" alt=\"UiPath Add Process\" width=\"820\"></p>\n",
    "\n",
    "<p align=\"center\"><img src=\"resources/UiPath_Add_Process_Setting.png\" alt=\"UiPath Add Process Setting\" width=\"820\"></p>\n",
    "\n",
    "\n",
    "\n"
   ]
  },
  {
   "cell_type": "markdown",
   "id": "ca52ddfd",
   "metadata": {},
   "source": [
    "## Step 6. Expose the Policy Agent via UiPath MCP Server\n",
    "\n",
    "Build a UiPath MCP Server directly in the UiPath platform by adding the `company-policy` agent as a tool and specifying a proper agent description. Once the UiPath MCP Server is built, copy the URL to be configured with the Claude Desktop app.\n",
    "\n",
    "<p align=\"center\"><img src=\"resources/UiPath_Add_Agent_Tool_MCP.png\" alt=\"UiPath Add Agent Tool MCP\" width=\"820\"></p>\n"
   ]
  },
  {
   "cell_type": "markdown",
   "id": "7c1c908e",
   "metadata": {},
   "source": [
    "\n",
    "To grant secure access to the company policy, configure the Claude Desktop app to point to the UiPath MCP Server that exposes the `company_policy_agent` tool.\n",
    "\n",
    "1. Generate a Personal Access Token (PAT) for Claude Desktop to authenticate with the UiPath MCP Server.\n",
    "2. Add the UiPath MCP Server to Claude Desktop's MCP Servers list."
   ]
  },
  {
   "cell_type": "markdown",
   "id": "df20ba2f",
   "metadata": {},
   "source": [
    "### Get a Personal Access Token (PAT)\n",
    "\n",
    "To generate a Personal Access Token (PAT) In UiPath Orchestrator go to User → Preferences → Personal Access Token. \n",
    "\n",
    "<p align=\"center\"><img src=\"resources/UiPath_PAT.png\" alt=\"UiPath Personal Access Token\" width=\"600\"></p>\n",
    "\n",
    "Set the `Name` and `Expiration date` and add as scope the `Orchestrator API Access (All)`\n",
    "\n",
    "<p align=\"center\"><img src=\"resources/UiPath_Generate_PAT.png\" alt=\"UiPath Generate Personal Access Token\" width=\"700\"></p>\n",
    "\n",
    "\n",
    " <p align=\"center\"><img src=\"resources/UiPath_Generate_PAT_ALL.png\" alt=\"UiPath Generate Personal Access Token All\" width=\"700\"></p>\n",
    "\n",
    "Copy the PAT it will be used to configure Claude Desktop app.\n"
   ]
  },
  {
   "cell_type": "markdown",
   "id": "b8d7eb88",
   "metadata": {},
   "source": [
    "### Setup Claude Desktop\n",
    "\n",
    "If not already available, download and install the Claude Desktop app. In the app `Settings` go to `Developer` -> `Edit Config`. \n",
    "\n",
    " <p align=\"center\"><img src=\"resources/Claude_Dev_Option.png\" alt=\"Claude Developer Option\" width=\"600\"></p>\n",
    "\n",
    "\n",
    "This will open the claude_desktop_config.jsonwhere the list of MCP Servers is defined. Example:\n",
    "\n",
    "<p align=\"center\"><img src=\"resources/Claude_MCP_Config.png\" alt=\"Claude MCP Config\" width=\"700\"></p>\n"
   ]
  },
  {
   "cell_type": "code",
   "execution_count": null,
   "id": "9a37e909",
   "metadata": {},
   "outputs": [],
   "source": [
    "\"CompanyPolicy\": {\n",
    "      \"command\": \"npx\",\n",
    "      \"args\": [\n",
    "        \"-y\",\n",
    "        \"mcp-remote\",\n",
    "        \"https:< UiPath MCP Server URL>\",\n",
    "        \"--header\",\n",
    "        \"Authorization:${AUTH_HEADER}\"\n",
    "      ],\n",
    "      \"env\": {\n",
    "        \"AUTH_HEADER\": \"Bearer <YOUR Personal Access Token>\"\n",
    "      }\n",
    "    }"
   ]
  },
  {
   "cell_type": "markdown",
   "id": "a2c6535e",
   "metadata": {},
   "source": [
    "Restart Claude Desktop to load the MCP configuration. The tools exposed by the MCP Server should be available and used whenever  a related prompt like *“I need to buy 10$ worth of API calls from OpenAI, what should I do per my company policy?“ is given \n",
    "\n",
    "<p align=\"center\"><img src=\"resources/Claude_Example.png\" alt=\"Claude Example\" width=\"700\"></p>\n",
    "\n"
   ]
  },
  {
   "cell_type": "markdown",
   "id": "560005d8",
   "metadata": {},
   "source": [
    "# Why Coded Agents?\n",
    "\n",
    "## **Complexity**. Unlocks branching agent logic \n",
    "\n",
    "Moves beyond simple contextualized LLM calls\n",
    "\n",
    "- Advanced trajectories. Multiple nodes, steps and states.  \n",
    "\n",
    "- Nuanced decision making\n",
    "\n",
    "----\n",
    "\n",
    "**Multiple Agent Architecture**\n",
    "\n",
    "For a company, a single agent cannot address all needs. Instead, organizations require specialized, context-aware, and tailored logic agents—along with a reliable mechanism to route each request to the most appropriate one.\n",
    "\n",
    "We can extend the single-agent design into a supervisor-dispatch pattern that routes each request to a specialized agent.\n",
    "\n",
    "- Supervisor node: Classifies the question into an agent label and stores it in `category` in the graph state.\n",
    "- Routing: A router function sends the request to the right Agent (graph node) using conditional edges.\n",
    "- Specialized agents:\n",
    "  - `policy` (Company Policy): existing agent using `company-policy-index`.\n",
    "  - `procurement`: a new agent (copied from policy) using `procurement-index`.\n",
    "\n",
    "Key edits in `main.py`:\n",
    "- Added `GraphState` with fields: `question`, `category`.\n",
    "- Added `supervisor_node` to classify into “Company Policy” or “Procurement”.\n",
    "- Added `route_by_category(state)` to return the next node key.\n",
    "- Added `procurement_node` (initially same prompt shape as policy).\n",
    "- Rewired graph: `START -> supervisor -> (policy | procurement) -> END`.\n"
   ]
  },
  {
   "cell_type": "markdown",
   "id": "94e78ff6",
   "metadata": {},
   "source": [
    "---"
   ]
  },
  {
   "cell_type": "markdown",
   "id": "74e728e4",
   "metadata": {},
   "source": []
  },
  {
   "cell_type": "code",
   "execution_count": null,
   "id": "1ce2859b",
   "metadata": {},
   "outputs": [],
   "source": [
    "# Added GraphState with fields: question, category\n",
    "from pydantic import BaseModel\n",
    "\n",
    "class GraphState(BaseModel):\n",
    "    \"\"\"State for the company policy agent graph.\"\"\"\n",
    "    question: str\n",
    "    category: str | None = None\n"
   ]
  },
  {
   "cell_type": "code",
   "execution_count": null,
   "id": "7c387bbb",
   "metadata": {},
   "outputs": [],
   "source": [
    "# Added supervisor_node to classify into Company Policy or Procurement\n",
    "from langchain_openai import ChatOpenAI\n",
    "\n",
    "llm = ChatOpenAI(model=\"gpt-5\", temperature=0, max_tokens=4000, timeout=30, max_retries=2)\n",
    "\n",
    "async def supervisor_node(state: GraphState) -> GraphState:\n",
    "    categories = [\"Company Policy\", \"Procurement\"]\n",
    "    messages = [\n",
    "        {\"role\": \"system\", \"content\": (\"Classify the user's question into one of: Company Policy, Procurement. Reply with only the exact label.\")},\n",
    "        {\"role\": \"user\", \"content\": state.question},\n",
    "    ]\n",
    "    result = await llm.ainvoke(messages)\n",
    "    label = (result.content or \"\").strip()\n",
    "    normalized = {c.lower(): c for c in categories}\n",
    "    category = normalized.get(label.lower(), \"Company Policy\")\n",
    "    return GraphState(question=state.question, category=category)\n"
   ]
  },
  {
   "cell_type": "code",
   "execution_count": null,
   "id": "a49ae672",
   "metadata": {},
   "outputs": [],
   "source": [
    "# Added procurement_node (initially same prompt shape as policy)\n",
    "from uipath_langchain.retrievers import ContextGroundingRetriever\n",
    "\n",
    "async def procurement_node(state: GraphState):\n",
    "    retriever = ContextGroundingRetriever(\n",
    "        index_name=\"procurement-index\",\n",
    "        number_of_results=100,\n",
    "    )\n",
    "    try:\n",
    "        context_docs = await get_context_data_async(retriever, state.question)\n",
    "    except Exception:\n",
    "        context_docs = []\n",
    "\n",
    "    messages = [\n",
    "        {\"role\": \"system\", \"content\": \"You are the procurement agent.\"},\n",
    "        {\"role\": \"user\", \"content\": state.question},\n",
    "    ]\n",
    "    messages.append({\"role\": \"user\", \"content\": \"Agent: Procurement\"})\n",
    "    if state.category:\n",
    "        messages.append({\"role\": \"user\", \"content\": f\"Category: {state.category}\"})\n",
    "    if context_docs:\n",
    "        messages.append({\"role\":\"user\", \"content\": context_docs[0].page_content})\n",
    "\n",
    "    result = await llm.ainvoke(messages)\n",
    "    from pydantic import BaseModel\n",
    "    class GraphOutput(BaseModel):\n",
    "        response: str\n",
    "    return GraphOutput(response=result.content)\n"
   ]
  },
  {
   "cell_type": "code",
   "execution_count": null,
   "id": "c4a68723",
   "metadata": {},
   "outputs": [],
   "source": [
    "# Added route_by_category(state) to return the next node key\n",
    "\n",
    "def route_by_category(state: GraphState) -> str:\n",
    "    if state.category and state.category.lower() == \"procurement\":\n",
    "        return \"procurement\"\n",
    "    return \"policy\"\n"
   ]
  },
  {
   "cell_type": "code",
   "execution_count": null,
   "id": "9a575dfa",
   "metadata": {},
   "outputs": [],
   "source": [
    "# Rewired graph: START -> supervisor -> (policy | procurement) -> END (demo wiring)\n",
    "from importlib import reload\n",
    "import main as main_module\n",
    "reload(main_module)\n",
    "policy_node = main_module.policy_node\n",
    "\n",
    "from langgraph.graph import StateGraph, START, END\n",
    "from pydantic import BaseModel\n",
    "\n",
    "class GraphOutput(BaseModel):\n",
    "    response: str\n",
    "\n",
    "builder_demo = StateGraph(GraphState, output=GraphOutput)\n",
    "builder_demo.add_node(\"supervisor\", supervisor_node)\n",
    "builder_demo.add_node(\"policy\", policy_node)\n",
    "builder_demo.add_node(\"procurement\", procurement_node)\n",
    "\n",
    "builder_demo.add_edge(START, \"supervisor\")\n",
    "builder_demo.add_conditional_edges(\n",
    "    \"supervisor\",\n",
    "    route_by_category,\n",
    "    {\n",
    "        \"policy\": \"policy\",\n",
    "        \"procurement\": \"procurement\",\n",
    "    },\n",
    ")\n",
    "\n",
    "builder_demo.add_edge(\"policy\", END)\n",
    "builder_demo.add_edge(\"procurement\", END)\n",
    "\n",
    "demo_graph = builder_demo.compile()\n"
   ]
  },
  {
   "cell_type": "markdown",
   "id": "997cdb7c",
   "metadata": {},
   "source": [
    "----"
   ]
  },
  {
   "cell_type": "markdown",
   "id": "56f6f917",
   "metadata": {},
   "source": [
    "### Sync & visualise the Agent"
   ]
  },
  {
   "cell_type": "code",
   "execution_count": null,
   "id": "08bfc764",
   "metadata": {},
   "outputs": [],
   "source": [
    "# Update the main.py\n",
    "from pathlib import Path\n",
    "src = Path(\"resources/main2_multiple_agents.py\")\n",
    "dst = Path(\"main.py\")\n",
    "dst.write_text(src.read_text(), encoding=\"utf-8\")\n",
    "print(\"Synchronized main.py from resources/main2_multiple_agents.py\")\n"
   ]
  },
  {
   "cell_type": "code",
   "execution_count": null,
   "id": "600974ff",
   "metadata": {},
   "outputs": [],
   "source": [
    "# Re-initialize the project to make sure all file are up to date\n",
    "!uv run --active uipath init"
   ]
  },
  {
   "cell_type": "code",
   "execution_count": null,
   "id": "2a52d9b8",
   "metadata": {},
   "outputs": [],
   "source": [
    "# See the Mermaid diagram\n",
    "from IPython.display import display, Markdown\n",
    "\n",
    "with open(\"agent.mermaid\", \"r\") as f:\n",
    "    mermaid_code = f.read()\n",
    "\n",
    "display(Markdown(f\"```mermaid\\n{mermaid_code}\\n```\"))"
   ]
  },
  {
   "cell_type": "markdown",
   "id": "7c6b18fc",
   "metadata": {},
   "source": [
    "**Test Procurement flow**"
   ]
  },
  {
   "cell_type": "code",
   "execution_count": null,
   "id": "460efe5f",
   "metadata": {},
   "outputs": [],
   "source": [
    "%%writefile input.json\n",
    "{\n",
    "  \"question\": \"Can I buy an OpenAI subscription for company use?\"\n",
    "}"
   ]
  },
  {
   "cell_type": "code",
   "execution_count": null,
   "id": "ccda1b76",
   "metadata": {},
   "outputs": [],
   "source": [
    "!uv run --active uipath run agent --file input.json"
   ]
  },
  {
   "cell_type": "markdown",
   "id": "935bc11a",
   "metadata": {},
   "source": [
    "**Expected output**\n",
    "\n",
    "![UiPath_Supervisor_Procurement_Test](resources/UiPath_Supervisor_Procurement_Test.png)"
   ]
  },
  {
   "cell_type": "markdown",
   "id": "60755166",
   "metadata": {},
   "source": [
    "**Test Policy flow**"
   ]
  },
  {
   "cell_type": "code",
   "execution_count": null,
   "id": "e951ca8e",
   "metadata": {},
   "outputs": [],
   "source": [
    "%%writefile input.json\n",
    "{\n",
    "  \"question\": \"What is the PTO policy for taking 3 days off?\"\n",
    "}"
   ]
  },
  {
   "cell_type": "code",
   "execution_count": null,
   "id": "af599acf",
   "metadata": {},
   "outputs": [],
   "source": [
    "!uv run --active uipath run agent --file input.json"
   ]
  },
  {
   "cell_type": "markdown",
   "id": "1be16529",
   "metadata": {},
   "source": [
    "**Expected output**\n",
    "\n",
    "![UiPath_Supervisor_Policy_Test](resources/UiPath_Supervisor_Policy_Test.png)"
   ]
  },
  {
   "cell_type": "markdown",
   "id": "366c3c47",
   "metadata": {},
   "source": [
    "## **Control**. Supports deterministic agent logic and full flexibility\n",
    "\n",
    "- Blends coded steps with LLM-powered, nondeterministic decision points\n",
    "- Full flexibility. If you can code it you can do it\n",
    "\n",
    "\n",
    "**Deterministic agent logic**\n",
    "\n",
    "Add a **deterministic** validation step on **procurement path**\n",
    "\n",
    "- **GraphState**: added optional `email: str | None` and `code: str | None`.\n",
    "- **New node** `verify_credentials` on the Procurement path (routing: supervisor → verify_credentials → procurement)\n",
    "- **Validators**: added `is_valid_company_email(email)` and `is_valid_code(code)`.\n",
    "- **Procurement node updates**: validate optional inputs; fail fast if missing/invalid; proceed if valid (and include verification context in messages).\n"
   ]
  },
  {
   "cell_type": "markdown",
   "id": "245e7c61",
   "metadata": {},
   "source": [
    "----"
   ]
  },
  {
   "cell_type": "markdown",
   "id": "f41cfb8f",
   "metadata": {},
   "source": [
    "### Sync & visualise the Agent"
   ]
  },
  {
   "cell_type": "code",
   "execution_count": null,
   "id": "efd48c77",
   "metadata": {},
   "outputs": [],
   "source": [
    "# Update main.py with Validation node\n",
    "\n",
    "from pathlib import Path\n",
    "src = Path(\"resources/main3_validation.py\")\n",
    "dst = Path(\"main.py\")\n",
    "dst.write_text(src.read_text(), encoding=\"utf-8\")\n",
    "print(\"Synchronized main.py from resources/main3_validation.py\")\n"
   ]
  },
  {
   "cell_type": "code",
   "execution_count": null,
   "id": "3cb685d3",
   "metadata": {},
   "outputs": [],
   "source": [
    "# Re-initialize the project to make sure all file are up to date\n",
    "!uv run --active uipath init"
   ]
  },
  {
   "cell_type": "code",
   "execution_count": null,
   "id": "bd77e103",
   "metadata": {},
   "outputs": [],
   "source": [
    "# See the Mermaid diagram\n",
    "from IPython.display import display, Markdown\n",
    "\n",
    "with open(\"agent.mermaid\", \"r\") as f:\n",
    "    mermaid_code = f.read()\n",
    "\n",
    "display(Markdown(f\"```mermaid\\n{mermaid_code}\\n```\"))\n"
   ]
  },
  {
   "cell_type": "markdown",
   "id": "edd85528",
   "metadata": {},
   "source": [
    "**Test Procurement + No Credentials Flow**"
   ]
  },
  {
   "cell_type": "code",
   "execution_count": null,
   "id": "a60b1e07",
   "metadata": {},
   "outputs": [],
   "source": [
    "%%writefile input.json\n",
    "{\n",
    "  \"question\": \"Can I buy an OpenAI subscription for company use?\"\n",
    "}"
   ]
  },
  {
   "cell_type": "code",
   "execution_count": null,
   "id": "59c13fe5",
   "metadata": {},
   "outputs": [],
   "source": [
    "!uv run --active uipath run agent --file input.json\n"
   ]
  },
  {
   "cell_type": "markdown",
   "id": "e643229c",
   "metadata": {},
   "source": [
    "**Expected output**\n",
    "\n",
    "![Main3_Failed_Procurement_Path](resources/Main3_Failed_Procurement_Path.png)"
   ]
  },
  {
   "cell_type": "markdown",
   "id": "cfd415d1",
   "metadata": {},
   "source": [
    "**Test Procurement + Valid Credentials Flow**"
   ]
  },
  {
   "cell_type": "code",
   "execution_count": null,
   "id": "49f9df01",
   "metadata": {},
   "outputs": [],
   "source": [
    "%%writefile input.json\n",
    "{\n",
    "  \"question\": \"Can I buy an OpenAI subscription for company use?\",\n",
    "  \"email\": \"eusebiu.jecan@uipath.com\",\n",
    "  \"code\": \"4827\"\n",
    "}"
   ]
  },
  {
   "cell_type": "code",
   "execution_count": null,
   "id": "b99b8fc6",
   "metadata": {},
   "outputs": [],
   "source": [
    "!uv run --active uipath run agent --file input.json"
   ]
  },
  {
   "cell_type": "markdown",
   "id": "ba52aa05",
   "metadata": {},
   "source": [
    "**Expected output**\n",
    "\n",
    "![Main3_Success_Procurement_Path_1](resources/Main3_Success_Procurement_Path_1.png)\n",
    "![Main3_Success_Procurement_Path_2](resources/Main3_Success_Procurement_Path_2.png)\n",
    "\n"
   ]
  },
  {
   "cell_type": "markdown",
   "id": "2fafe32d",
   "metadata": {},
   "source": []
  },
  {
   "cell_type": "markdown",
   "id": "47d3c35d",
   "metadata": {},
   "source": [
    "## Reusability & Extensibility\n",
    "\n",
    "- Reuse and tailor across multiple scenarios\n",
    "- Iteratively evolve agents to improve accuracy and expand capabilities\n",
    "\n",
    "Reuse the Supervisor node and existing pattern to add a dedicated HR Agent to help with HR Specific tasks\n",
    "\n",
    "- **Supervisor**: added “HR” to categories and updated the classification prompt to include HR.\n",
    "- **New node hr on the HR path** (routing: supervisor → hr → END).\n",
    "- **Local catalog**: reads hr_tools.json (root) or resources/hr_tools.json; falls back to a built-in default mapping if missing.\n",
    "- **Deterministic output**: always returns Tool selected for the ask is: <tool>; defaults to none on parsing failure."
   ]
  },
  {
   "cell_type": "markdown",
   "id": "055ba833",
   "metadata": {},
   "source": [
    "----"
   ]
  },
  {
   "cell_type": "markdown",
   "id": "e08c1678",
   "metadata": {},
   "source": [
    "### Sync & visualise the Agent"
   ]
  },
  {
   "cell_type": "code",
   "execution_count": null,
   "id": "2c4d7dcb",
   "metadata": {},
   "outputs": [],
   "source": [
    "# Update main.py with Validation node\n",
    "\n",
    "from pathlib import Path\n",
    "src = Path(\"resources/main4_hr.py\")\n",
    "dst = Path(\"main.py\")\n",
    "dst.write_text(src.read_text(), encoding=\"utf-8\")\n",
    "print(\"Synchronized main.py from resources/main4_hr.py\")"
   ]
  },
  {
   "cell_type": "code",
   "execution_count": null,
   "id": "51588be7",
   "metadata": {},
   "outputs": [],
   "source": [
    "# Re-initialize the project to make sure all file are up to date\n",
    "!uv run --active uipath init"
   ]
  },
  {
   "cell_type": "code",
   "execution_count": null,
   "id": "77bc25c8",
   "metadata": {},
   "outputs": [],
   "source": [
    "# See the Mermaid diagram\n",
    "from IPython.display import display, Markdown\n",
    "\n",
    "with open(\"agent.mermaid\", \"r\") as f:\n",
    "    mermaid_code = f.read()\n",
    "\n",
    "display(Markdown(f\"```mermaid\\n{mermaid_code}\\n```\"))"
   ]
  },
  {
   "cell_type": "code",
   "execution_count": null,
   "id": "84cfbb86",
   "metadata": {},
   "outputs": [],
   "source": [
    "%%writefile input.json\n",
    "{\n",
    "  \"question\": \"Schedule an HR screening for Eusebiu Jecan\",\n",
    "  \"email\": \"eusebiu.jecan@uipath.com\",\n",
    "  \"code\": \"4827\"\n",
    "}"
   ]
  },
  {
   "cell_type": "code",
   "execution_count": null,
   "id": "879457a4",
   "metadata": {},
   "outputs": [],
   "source": [
    "!uv run --active uipath run agent --file input.json"
   ]
  },
  {
   "cell_type": "markdown",
   "id": "0a43ada1",
   "metadata": {},
   "source": [
    "**Expected output**\n",
    "\n",
    "![Main4_Output](resources/Main4_Output.png)"
   ]
  },
  {
   "cell_type": "markdown",
   "id": "777ac3a1",
   "metadata": {},
   "source": [
    "## **Customization**. Enables niche and highly specialized scenarios​\n",
    "\n",
    "- Integration with bespoke software solutions\n",
    "- Build and use coded MCP Servers\n",
    "\n",
    "We can add granular customisation to:\n",
    "\n",
    "- **Use a beskope, local DB** to check if the user is authorised to use the HR Agent as it might return sensitive info with limited access (as opposed to Policy that can be available for everyone in the company "
   ]
  },
  {
   "cell_type": "markdown",
   "id": "3a741f4f",
   "metadata": {},
   "source": [
    "----"
   ]
  },
  {
   "cell_type": "markdown",
   "id": "d708f931",
   "metadata": {},
   "source": [
    "### Sync & visualise the Agent"
   ]
  },
  {
   "cell_type": "code",
   "execution_count": null,
   "id": "cf539f3a",
   "metadata": {},
   "outputs": [],
   "source": [
    "# Update main.py with Validation node\n",
    "\n",
    "from pathlib import Path\n",
    "src = Path(\"resources/main5_permission_check_hr.py\")\n",
    "dst = Path(\"main.py\")\n",
    "dst.write_text(src.read_text(), encoding=\"utf-8\")\n",
    "print(\"Synchronized main.py from resources/main5_permission_check_hr.py\")"
   ]
  },
  {
   "cell_type": "code",
   "execution_count": null,
   "id": "765c2e5e",
   "metadata": {},
   "outputs": [],
   "source": [
    "# Re-initialize the project to make sure all file are up to date\n",
    "!uv run --active uipath init"
   ]
  },
  {
   "cell_type": "code",
   "execution_count": null,
   "id": "91b8ccd6",
   "metadata": {},
   "outputs": [],
   "source": [
    "# See the Mermaid diagram\n",
    "from IPython.display import display, Markdown\n",
    "\n",
    "with open(\"agent.mermaid\", \"r\") as f:\n",
    "    mermaid_code = f.read()\n",
    "\n",
    "display(Markdown(f\"```mermaid\\n{mermaid_code}\\n```\"))"
   ]
  },
  {
   "cell_type": "markdown",
   "id": "e00ed231",
   "metadata": {},
   "source": [
    "**The allowd list includes eusebiu.jecan@uipath.com, edit in code other/your e-mail address to test**"
   ]
  },
  {
   "cell_type": "code",
   "execution_count": null,
   "id": "13694a3f",
   "metadata": {},
   "outputs": [],
   "source": [
    "# Create a local HR authorization file (allow-list)\n",
    "import json, os, textwrap\n",
    "\n",
    "auth = {\n",
    "    \"allowed_emails\": [\n",
    "        \"eusebiu.jecan@uipath.com\",\n",
    "        # Add others here...\n",
    "    ]\n",
    "}\n",
    "\n",
    "# Write to project root\n",
    "with open(\"hr_auth.json\", \"w\", encoding=\"utf-8\") as f:\n",
    "    json.dump(auth, f, indent=2)\n",
    "\n",
    "print(\"Created hr_auth.json with allow-list:\", auth[\"allowed_emails\"])"
   ]
  },
  {
   "cell_type": "code",
   "execution_count": null,
   "id": "2163b6b2",
   "metadata": {},
   "outputs": [],
   "source": [
    "%%writefile input.json\n",
    "{\n",
    "  \"question\": \"Schedule an HR screening for Eusebiu Jecan\",\n",
    "  \"email\": \"eusebiu.jecan@uipath.com\",\n",
    "  \"code\": \"4827\"\n",
    "}"
   ]
  },
  {
   "cell_type": "code",
   "execution_count": null,
   "id": "e91028f9",
   "metadata": {},
   "outputs": [],
   "source": [
    "!uv run --active uipath run agent --file input.json"
   ]
  },
  {
   "cell_type": "markdown",
   "id": "c7313699",
   "metadata": {},
   "source": [
    "**Expected output**\n",
    "\n",
    "![Authorized HR screening](resources/Main5_Authorised.png)\n"
   ]
  },
  {
   "cell_type": "code",
   "execution_count": null,
   "id": "d03ca464",
   "metadata": {},
   "outputs": [],
   "source": [
    "%%writefile input.json\n",
    "{\n",
    "  \"question\": \"Schedule an HR screening for Eusebiu Jecan\",\n",
    "  \"email\": \"somenone@uipath.com\",\n",
    "  \"code\": \"4827\"\n",
    "}"
   ]
  },
  {
   "cell_type": "code",
   "execution_count": null,
   "id": "7bcfb714",
   "metadata": {},
   "outputs": [],
   "source": [
    "!uv run --active uipath run agent --file input.json"
   ]
  },
  {
   "cell_type": "markdown",
   "id": "e37c790a",
   "metadata": {},
   "source": [
    "**Expected output**\n",
    "\n",
    "![Authorized HR screening](resources/Main5_Not_Authorised.png)"
   ]
  },
  {
   "cell_type": "markdown",
   "id": "be75b8b7",
   "metadata": {},
   "source": [
    "## Tailored & deterministic Human-in-the-loop"
   ]
  },
  {
   "cell_type": "markdown",
   "id": "362ffd12",
   "metadata": {},
   "source": [
    "### Sync & visualise the Agent"
   ]
  },
  {
   "cell_type": "code",
   "execution_count": 57,
   "id": "741940fa",
   "metadata": {},
   "outputs": [
    {
     "name": "stdout",
     "output_type": "stream",
     "text": [
      "Synchronized main.py from resources/main6_HITL.py\n"
     ]
    }
   ],
   "source": [
    "# Update main.py with Human in the loop\n",
    "\n",
    "from pathlib import Path\n",
    "src = Path(\"resources/main6_HITL.py\")\n",
    "dst = Path(\"main.py\")\n",
    "dst.write_text(src.read_text(), encoding=\"utf-8\")\n",
    "print(\"Synchronized main.py from resources/main6_HITL.py\")"
   ]
  },
  {
   "cell_type": "markdown",
   "id": "4ffce48c",
   "metadata": {},
   "source": [
    "**Set the Human in the loop assignee email**"
   ]
  },
  {
   "cell_type": "code",
   "execution_count": null,
   "id": "68e23bbe",
   "metadata": {},
   "outputs": [],
   "source": [
    "# Re-initialize the project to make sure all file are up to date\n",
    "\n",
    "!uv run --active uipath init"
   ]
  },
  {
   "cell_type": "code",
   "execution_count": null,
   "id": "6edb1216",
   "metadata": {},
   "outputs": [],
   "source": [
    "# Visualize the current graph (Mermaid)\n",
    "from IPython.display import display, Markdown\n",
    "\n",
    "with open(\"agent.mermaid\", \"r\", encoding=\"utf-8\") as f:\n",
    "    mermaid_code = f.read()\n",
    "\n",
    "display(Markdown(f\"```mermaid\\n{mermaid_code}\\n```\"))"
   ]
  },
  {
   "cell_type": "code",
   "execution_count": null,
   "id": "66d07bdc",
   "metadata": {},
   "outputs": [],
   "source": [
    "%%writefile input.json\n",
    "{\n",
    "  \"question\": \"I met a new prospect at a conference, I need to add him to the CRM\",\n",
    "  \"email\": \"eusebiu.jecan@uipath.com\",\n",
    "  \"code\": \"4827\"\n",
    "}"
   ]
  },
  {
   "cell_type": "code",
   "execution_count": null,
   "id": "c15c4ecc",
   "metadata": {},
   "outputs": [],
   "source": [
    "# Ensure only the correct UIPATH_URL is enabled in .env\n",
    "lines = []\n",
    "with open(\".env\", \"r\", encoding=\"utf-8\") as f:\n",
    "    for line in f:\n",
    "        if line.strip().startswith(\"UIPATH_URL=\"):\n",
    "            # Comment out all UIPATH_URL lines\n",
    "            lines.append(f\"# {line.lstrip('#').strip()}\\n\")\n",
    "        else:\n",
    "            lines.append(line)\n",
    "# Add the correct UIPATH_URL at the end\n",
    "lines.append(\"UIPATH_URL=https://staging.uipath.com/9b42e25e-2062-4988-ab22-9f2383bf49a2/9f4094e2-dadf-4c2c-bc16-b01217e05ca6\\n\")\n",
    "with open(\".env\", \"w\", encoding=\"utf-8\") as f:\n",
    "    f.writelines(lines)\n",
    "print(\"Updated .env with the correct UIPATH_URL\")\n"
   ]
  },
  {
   "cell_type": "code",
   "execution_count": 60,
   "id": "fbf1ac6e",
   "metadata": {},
   "outputs": [
    {
     "name": "stdout",
     "output_type": "stream",
     "text": [
      "Updated HITL assignee email in main.py to: eusebiu.jecan@uipath.com\n"
     ]
    }
   ],
   "source": [
    "# Set the HITL assignee email \n",
    "HITL_ASSIGNEE_EMAIL = \"<your-email>\"  # <--- Change this value with teh e-mail you signed up within UiPath\n",
    "\n",
    "from pathlib import Path\n",
    "import re\n",
    "\n",
    "main_path = Path(\"main.py\")\n",
    "lines = main_path.read_text(encoding=\"utf-8\").splitlines()\n",
    "\n",
    "# Find the line with 'assignee=' and replace the email\n",
    "for i, line in enumerate(lines):\n",
    "    if \"assignee=\" in line:\n",
    "        lines[i] = re.sub(\n",
    "            r'assignee\\s*=\\s*[\"\\'].*?[\"\\']',\n",
    "            f'assignee=\\\"{HITL_ASSIGNEE_EMAIL}\\\"',\n",
    "            line\n",
    "        )\n",
    "        break\n",
    "\n",
    "main_path.write_text(\"\\n\".join(lines), encoding=\"utf-8\")\n",
    "print(f\"Updated HITL assignee email in main.py to: {HITL_ASSIGNEE_EMAIL}\")"
   ]
  },
  {
   "cell_type": "code",
   "execution_count": null,
   "id": "054bdf9c",
   "metadata": {},
   "outputs": [],
   "source": [
    "!uv run --active uipath run agent --file input.json"
   ]
  },
  {
   "cell_type": "code",
   "execution_count": null,
   "id": "15399994",
   "metadata": {},
   "outputs": [],
   "source": [
    "!uv run --active uipath run --resume "
   ]
  },
  {
   "cell_type": "markdown",
   "id": "c07b5386",
   "metadata": {},
   "source": [
    "# Evals\n",
    "# Traces\n",
    "## Local Traces\n",
    "## UiPath Traces\n",
    "## LangSmith Traces\n",
    "# MCP\n",
    "# Vibe Coding"
   ]
  }
 ],
 "metadata": {
  "jupytext": {
   "cell_metadata_filter": "-all",
   "main_language": "python",
   "notebook_metadata_filter": "-all"
  },
  "kernelspec": {
   "display_name": ".venv",
   "language": "python",
   "name": "python3"
  },
  "language_info": {
   "codemirror_mode": {
    "name": "ipython",
    "version": 3
   },
   "file_extension": ".py",
   "mimetype": "text/x-python",
   "name": "python",
   "nbconvert_exporter": "python",
   "pygments_lexer": "ipython3",
   "version": "3.13.4"
  }
 },
 "nbformat": 4,
 "nbformat_minor": 5
}
